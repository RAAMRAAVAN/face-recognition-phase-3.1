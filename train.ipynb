{
 "cells": [
  {
   "cell_type": "code",
   "execution_count": 1,
   "id": "ac5b7ad2",
   "metadata": {},
   "outputs": [
    {
     "name": "stderr",
     "output_type": "stream",
     "text": [
      "c:\\Users\\RAAVAN RAY\\AppData\\Local\\Programs\\Python\\Python38\\lib\\site-packages\\tqdm\\auto.py:22: TqdmWarning: IProgress not found. Please update jupyter and ipywidgets. See https://ipywidgets.readthedocs.io/en/stable/user_install.html\n",
      "  from .autonotebook import tqdm as notebook_tqdm\n"
     ]
    },
    {
     "name": "stdout",
     "output_type": "stream",
     "text": [
      "importing Jupyter notebook from gaemain.ipynb\n",
      "importing Jupyter notebook from ram_mediapipe.ipynb\n",
      "(468, 16)\n"
     ]
    }
   ],
   "source": [
    "from __future__ import division\n",
    "from __future__ import print_function\n",
    "\n",
    "import argparse\n",
    "import time\n",
    "\n",
    "import numpy as np\n",
    "import scipy.sparse as sp\n",
    "import torch\n",
    "import torchvision\n",
    "from torch import optim\n",
    "import pandas as pd\n",
    "\n",
    "\n",
    "from gae.model import GCNModelVAE\n",
    "\n",
    "from gae.optimizer import loss_function\n",
    "from gae.utils import load_data, mask_test_edges, preprocess_graph, get_roc_score\n",
    "\n",
    "import import_ipynb\n",
    "from gaemain import gae_for\n",
    "# ram changes 1\n"
   ]
  },
  {
   "cell_type": "code",
   "execution_count": 2,
   "id": "19832fcb",
   "metadata": {},
   "outputs": [],
   "source": [
    "\n",
    "# person=input(\"Enter person name:\\n\")\n",
    "for person in range(1,10):\n",
    "    path=\"./orl_dataset/person\"+str(person)+\"/train_images/\"\n",
    "    files=os.listdir(path)\n",
    "    count=0\n",
    "    for image in files:\n",
    "        image_path=path+image\n",
    "        # print(image_path)\n",
    "        count=count+1\n",
    "        Z=gae_for(image_path)\n",
    "        # Z=Z.detach().numpy() #convert to Numpy array\n",
    "        # print(\"numpyZ=\",Z)\n",
    "        Z = pd.DataFrame(Z) #convert to a dataframe\n",
    "        # print(\"dataframeZ=\",Z)\n",
    "        csv_path=\"./orl_dataset/person\"+str(person)+\"/latent_representation/testfile\"+str(count)+\".csv\"\n",
    "        Z.to_csv(csv_path,index=False) #save to file\n"
   ]
  }
 ],
 "metadata": {
  "kernelspec": {
   "display_name": "Python 3.8.10 64-bit",
   "language": "python",
   "name": "python3"
  },
  "language_info": {
   "codemirror_mode": {
    "name": "ipython",
    "version": 3
   },
   "file_extension": ".py",
   "mimetype": "text/x-python",
   "name": "python",
   "nbconvert_exporter": "python",
   "pygments_lexer": "ipython3",
   "version": "3.8.10 (tags/v3.8.10:3d8993a, May  3 2021, 11:48:03) [MSC v.1928 64 bit (AMD64)]"
  },
  "vscode": {
   "interpreter": {
    "hash": "aadfbdf25e6c44ec54c3392f55309ee547c7867a1cc44e79bd77663d13a5dcc8"
   }
  }
 },
 "nbformat": 4,
 "nbformat_minor": 5
}
