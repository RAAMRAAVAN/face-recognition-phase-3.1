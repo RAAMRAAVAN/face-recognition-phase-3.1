{
 "cells": [
  {
   "cell_type": "code",
   "execution_count": 1,
   "id": "a71a7b18",
   "metadata": {},
   "outputs": [],
   "source": [
    "import cv2\n",
    "import mediapipe as mp\n",
    "from matplotlib import pyplot as plt\n",
    "import numpy as np\n",
    "from scipy import sparse\n",
    "import torch\n",
    "import import_ipynb"
   ]
  },
  {
   "cell_type": "code",
   "execution_count": 2,
   "id": "42397729",
   "metadata": {},
   "outputs": [],
   "source": [
    "def mediapipe(path): \n",
    "    image=cv2.imread(path)\n",
    "    image=cv2.resize(image,(600,600))\n",
    "    annoted_image=image.astype(np.uint8)\n",
    "\n",
    "    mp_face_mesh=mp.solutions.face_mesh\n",
    "    connection_tesselation=mp_face_mesh.FACEMESH_TESSELATION\n",
    "    # print(\"edges_mediapipe=\",len(connection_tesselation),len(connection_tesselation)/2)\n",
    "    with mp_face_mesh.FaceMesh(static_image_mode=False,max_num_faces=2,refine_landmarks=True,min_detection_confidence=0.5) as face_mesh:\n",
    "        results=face_mesh.process(cv2.cvtColor(image,cv2.COLOR_BGR2RGB))\n",
    "\n",
    "    x_axis=np.empty(len(results.multi_face_landmarks[0].landmark))\n",
    "    y_axis=np.empty(len(results.multi_face_landmarks[0].landmark))\n",
    "    i=0\n",
    "\n",
    "    for nodes in results.multi_face_landmarks[0].landmark:\n",
    "        x_axis[i]=(results.multi_face_landmarks[0].landmark[i].x)\n",
    "        y_axis[i]=(results.multi_face_landmarks[0].landmark[i].y)\n",
    "        i=i+1\n",
    "    # print(len(results.multi_face_landmarks[0].landmark))\n",
    "\n",
    "    FEATURE_MATRIX=np.zeros((468,468))\n",
    "    for i in range(468):\n",
    "        FEATURE_MATRIX[i][i]=1\n",
    "\n",
    "    WEIGHTED_ADJACENCY_MATRIX=np.zeros((468,468)) #creating a numpy array of shape 468X468 initialized with zero\n",
    "    BINARY_ADJACENCY_MATRIX=np.zeros((468,468))\n",
    "\n",
    "    for edge in connection_tesselation:\n",
    "        # Determining X & Y axis of Two Connected Points\n",
    "        x1=x_axis[edge[0]]\n",
    "        y1=y_axis[edge[0]]\n",
    "        x2=x_axis[edge[1]]\n",
    "        y2=y_axis[edge[1]]\n",
    "        # Calculating Eucleadin Distance for Weighted Graph\n",
    "        eucleadian_distance=(((x2-x1)**2 + (y2-y1)**2 ) ** 0.5)\n",
    "        # Creating Weighted Graph\n",
    "        WEIGHTED_ADJACENCY_MATRIX[edge[0]][edge[1]]=eucleadian_distance\n",
    "        WEIGHTED_ADJACENCY_MATRIX[edge[1]][edge[0]]=eucleadian_distance\n",
    "\n",
    "        BINARY_ADJACENCY_MATRIX[edge[0]][edge[1]]=1\n",
    "        BINARY_ADJACENCY_MATRIX[edge[1]][edge[0]]=1\n",
    "        # Normalizing axis Values For Visualizing Meash on Face\n",
    "        shape = image.shape \n",
    "        relative_x = int(x1 * shape[1])\n",
    "        relative_y = int(y1 * shape[0])\n",
    "        relative_z = int(x2 * shape[1])   \n",
    "        relative_c = int(y2 * shape[0])\n",
    "        # Drawing Nodes and Edges on Image For Visualization\n",
    "        cv2.circle(image, (relative_x, relative_y), radius=1, color=(0, 0, 255), thickness=3) \n",
    "        cv2.line(image,(relative_x,relative_y),(relative_z,relative_c),(0,255,0),1)\n",
    "\n",
    "    # plt.imshow(image)\n",
    "    WEIGHTED_ADJACENCY_MATRIX=sparse.csr_matrix(WEIGHTED_ADJACENCY_MATRIX)\n",
    "    BINARY_ADJACENCY_MATRIX=sparse.csr_matrix(BINARY_ADJACENCY_MATRIX)\n",
    "    FEATURE_MATRIX=torch.from_numpy(FEATURE_MATRIX)\n",
    "    return(WEIGHTED_ADJACENCY_MATRIX,FEATURE_MATRIX)\n"
   ]
  }
 ],
 "metadata": {
  "kernelspec": {
   "display_name": "Python 3.8.10 64-bit",
   "language": "python",
   "name": "python3"
  },
  "language_info": {
   "codemirror_mode": {
    "name": "ipython",
    "version": 3
   },
   "file_extension": ".py",
   "mimetype": "text/x-python",
   "name": "python",
   "nbconvert_exporter": "python",
   "pygments_lexer": "ipython3",
   "version": "3.8.10 (tags/v3.8.10:3d8993a, May  3 2021, 11:48:03) [MSC v.1928 64 bit (AMD64)]"
  },
  "vscode": {
   "interpreter": {
    "hash": "aadfbdf25e6c44ec54c3392f55309ee547c7867a1cc44e79bd77663d13a5dcc8"
   }
  }
 },
 "nbformat": 4,
 "nbformat_minor": 5
}
